{
  "nbformat": 4,
  "nbformat_minor": 0,
  "metadata": {
    "accelerator": "GPU",
    "colab": {
      "provenance": []
    },
    "kernelspec": {
      "display_name": "Python 3",
      "language": "python",
      "name": "python3"
    },
    "language_info": {
      "codemirror_mode": {
        "name": "ipython",
        "version": 3
      },
      "file_extension": ".py",
      "mimetype": "text/x-python",
      "name": "python",
      "nbconvert_exporter": "python",
      "pygments_lexer": "ipython3",
      "version": "3.7.6"
    }
  },
  "cells": [
    {
      "cell_type": "markdown",
      "metadata": {
        "id": "vpfvx3zSO-je"
      },
      "source": [
        "<img src=\"https://i.ibb.co/qjt4Ymb/2022-09-19-004719.png\" alt=\"2022-09-19-004719\" border=\"0\">\n",
        "\n",
        "# AOI simple Pipeline (Part 2)"
      ]
    },
    {
      "cell_type": "markdown",
      "metadata": {
        "id": "ZOuhb2IiDVpm"
      },
      "source": [
        "# Exercise: Full solution\n",
        "* Single CNN model\n",
        "* ImageDataSet\n",
        "* ImageDataLoader\n",
        "* Submit results\n",
        "\n",
        "AIdea AOI Project\n",
        "https://aidea-web.tw/topic/285ef3be-44eb-43dd-85cc-f0388bf85ea4"
      ]
    },
    {
      "cell_type": "markdown",
      "metadata": {
        "id": "bXEzgNlpP_sv"
      },
      "source": [
        "## Step 1: Load the dataset from google drive\n",
        "If the following command does not work, please download it, put it on your Google drive, and set up sharing\n",
        "\n",
        "Download from:\n",
        "https://drive.google.com/file/d/1tovCO2gsjesjJ8OsfHgahyt-buY34dk0/view?usp=sharing\n",
        "\n",
        "https://drive.google.com/file/d/1SZXCzhR_cr11tiBq52ASOc0urFxYYhs3/view?usp=sharing"
      ]
    },
    {
      "cell_type": "code",
      "metadata": {
        "id": "7VE-8D4WP-zd"
      },
      "source": [
        "%%bash\n",
        "gdown https://drive.google.com/uc?id=1_fSiJdT7X_BT_IOf23yn9x5AvvaXSFb_\n",
        "unzip aoi-dataset.zip\n",
        "rm aoi-dataset.zip"
      ],
      "execution_count": null,
      "outputs": []
    },
    {
      "cell_type": "markdown",
      "metadata": {
        "id": "kHlgUk9qQLRu"
      },
      "source": [
        "## Step 2: Import python libraries"
      ]
    },
    {
      "cell_type": "code",
      "metadata": {
        "id": "OCJBD9x1Bv8n"
      },
      "source": [
        "import os\n",
        "import glob\n",
        "import torch\n",
        "from torch import nn\n",
        "from torch.utils.data import Dataset, DataLoader\n",
        "from torchvision import datasets\n",
        "from torchvision.transforms import ToTensor"
      ],
      "execution_count": null,
      "outputs": []
    },
    {
      "cell_type": "code",
      "source": [
        "import torch\n",
        "print (torch.cuda.is_available())"
      ],
      "metadata": {
        "id": "FpAjxdzsmIWU",
        "colab": {
          "base_uri": "https://localhost:8080/"
        },
        "outputId": "b1f78cc6-7602-4d4e-d90e-cd5e7ea5d825"
      },
      "execution_count": null,
      "outputs": [
        {
          "output_type": "stream",
          "name": "stdout",
          "text": [
            "True\n"
          ]
        }
      ]
    },
    {
      "cell_type": "code",
      "source": [
        "device_name=torch.cuda.get_device_name(0)\n",
        "print(f\"Using GPU {device_name}\")"
      ],
      "metadata": {
        "id": "xxR_KNjWdQdw",
        "colab": {
          "base_uri": "https://localhost:8080/"
        },
        "outputId": "0919b2c5-f6c7-4d73-ad87-22ec5eb49d5b"
      },
      "execution_count": null,
      "outputs": [
        {
          "output_type": "stream",
          "name": "stdout",
          "text": [
            "Using GPU Tesla T4\n"
          ]
        }
      ]
    },
    {
      "cell_type": "code",
      "metadata": {
        "id": "Gl5ZMXU3S_rH"
      },
      "source": [
        "import numpy as np\n",
        "import matplotlib.pyplot as plt\n",
        "%matplotlib inline"
      ],
      "execution_count": null,
      "outputs": []
    },
    {
      "cell_type": "markdown",
      "source": [
        "## Step 3: Choose one of CNN models and load from the saved file\n",
        "\n",
        "### EfficientNet B0 to B7\n",
        "\n",
        "__Model-EfficientNet__\n",
        "\n",
        "https://pytorch.org/hub/nvidia_deeplearningexamples_efficientnet/\n",
        "\n",
        "|  Base model | resolution  | Base model | resolution  |\n",
        "|---|---|---|---|\n",
        "| EfficientNetB0  | 224  | EfficientNetB4  | 380  |\n",
        "| EfficientNetB1  | 240  | EfficientNetB5  | 456  |\n",
        "| EfficientNetB2  | 260  | EfficientNetB6  | 528  |\n",
        "| EfficientNetB3  | 300  | EfficientNetB7  | 600  |\n"
      ],
      "metadata": {
        "id": "r726XRw2Cglu"
      }
    },
    {
      "cell_type": "markdown",
      "source": [],
      "metadata": {
        "id": "g7JzAQM2Ch5w"
      }
    },
    {
      "cell_type": "code",
      "source": [
        "import torchvision.models as models\n",
        "num_classes=6\n",
        "filepath = \"AOI-B1.pth\"\n",
        "model=models.efficientnet_b1(num_classes=num_classes)\n",
        "model.load_state_dict(torch.load(filepath))\n",
        "model.cuda()"
      ],
      "metadata": {
        "id": "YOCWQP71Co5m"
      },
      "execution_count": null,
      "outputs": []
    },
    {
      "cell_type": "markdown",
      "metadata": {
        "id": "oB5cwshcZdRo"
      },
      "source": [
        "## Step 4: Load the test set"
      ]
    },
    {
      "cell_type": "code",
      "metadata": {
        "id": "gH3N656tHvVF",
        "colab": {
          "base_uri": "https://localhost:8080/"
        },
        "outputId": "f93cc1ef-591c-4512-fa5d-4e8827f9ff79"
      },
      "source": [
        "import pandas as pd\n",
        "df_test = pd.read_csv(\"test.csv\")\n",
        "print(df_test.shape)"
      ],
      "execution_count": null,
      "outputs": [
        {
          "output_type": "stream",
          "name": "stdout",
          "text": [
            "(10142, 2)\n"
          ]
        }
      ]
    },
    {
      "cell_type": "code",
      "metadata": {
        "id": "hukndpFCnTBM",
        "colab": {
          "base_uri": "https://localhost:8080/",
          "height": 206
        },
        "outputId": "a96c2d37-ad41-40f5-e55e-41686dca38c7"
      },
      "source": [
        "df_test.head()"
      ],
      "execution_count": null,
      "outputs": [
        {
          "output_type": "execute_result",
          "data": {
            "text/plain": [
              "               ID  Label\n",
              "0  test_00000.png    NaN\n",
              "1  test_00001.png    NaN\n",
              "2  test_00002.png    NaN\n",
              "3  test_00003.png    NaN\n",
              "4  test_00004.png    NaN"
            ],
            "text/html": [
              "\n",
              "  <div id=\"df-080ac11f-8d21-46d9-8eb0-f0bc5a6a77a7\" class=\"colab-df-container\">\n",
              "    <div>\n",
              "<style scoped>\n",
              "    .dataframe tbody tr th:only-of-type {\n",
              "        vertical-align: middle;\n",
              "    }\n",
              "\n",
              "    .dataframe tbody tr th {\n",
              "        vertical-align: top;\n",
              "    }\n",
              "\n",
              "    .dataframe thead th {\n",
              "        text-align: right;\n",
              "    }\n",
              "</style>\n",
              "<table border=\"1\" class=\"dataframe\">\n",
              "  <thead>\n",
              "    <tr style=\"text-align: right;\">\n",
              "      <th></th>\n",
              "      <th>ID</th>\n",
              "      <th>Label</th>\n",
              "    </tr>\n",
              "  </thead>\n",
              "  <tbody>\n",
              "    <tr>\n",
              "      <th>0</th>\n",
              "      <td>test_00000.png</td>\n",
              "      <td>NaN</td>\n",
              "    </tr>\n",
              "    <tr>\n",
              "      <th>1</th>\n",
              "      <td>test_00001.png</td>\n",
              "      <td>NaN</td>\n",
              "    </tr>\n",
              "    <tr>\n",
              "      <th>2</th>\n",
              "      <td>test_00002.png</td>\n",
              "      <td>NaN</td>\n",
              "    </tr>\n",
              "    <tr>\n",
              "      <th>3</th>\n",
              "      <td>test_00003.png</td>\n",
              "      <td>NaN</td>\n",
              "    </tr>\n",
              "    <tr>\n",
              "      <th>4</th>\n",
              "      <td>test_00004.png</td>\n",
              "      <td>NaN</td>\n",
              "    </tr>\n",
              "  </tbody>\n",
              "</table>\n",
              "</div>\n",
              "    <div class=\"colab-df-buttons\">\n",
              "\n",
              "  <div class=\"colab-df-container\">\n",
              "    <button class=\"colab-df-convert\" onclick=\"convertToInteractive('df-080ac11f-8d21-46d9-8eb0-f0bc5a6a77a7')\"\n",
              "            title=\"Convert this dataframe to an interactive table.\"\n",
              "            style=\"display:none;\">\n",
              "\n",
              "  <svg xmlns=\"http://www.w3.org/2000/svg\" height=\"24px\" viewBox=\"0 -960 960 960\">\n",
              "    <path d=\"M120-120v-720h720v720H120Zm60-500h600v-160H180v160Zm220 220h160v-160H400v160Zm0 220h160v-160H400v160ZM180-400h160v-160H180v160Zm440 0h160v-160H620v160ZM180-180h160v-160H180v160Zm440 0h160v-160H620v160Z\"/>\n",
              "  </svg>\n",
              "    </button>\n",
              "\n",
              "  <style>\n",
              "    .colab-df-container {\n",
              "      display:flex;\n",
              "      gap: 12px;\n",
              "    }\n",
              "\n",
              "    .colab-df-convert {\n",
              "      background-color: #E8F0FE;\n",
              "      border: none;\n",
              "      border-radius: 50%;\n",
              "      cursor: pointer;\n",
              "      display: none;\n",
              "      fill: #1967D2;\n",
              "      height: 32px;\n",
              "      padding: 0 0 0 0;\n",
              "      width: 32px;\n",
              "    }\n",
              "\n",
              "    .colab-df-convert:hover {\n",
              "      background-color: #E2EBFA;\n",
              "      box-shadow: 0px 1px 2px rgba(60, 64, 67, 0.3), 0px 1px 3px 1px rgba(60, 64, 67, 0.15);\n",
              "      fill: #174EA6;\n",
              "    }\n",
              "\n",
              "    .colab-df-buttons div {\n",
              "      margin-bottom: 4px;\n",
              "    }\n",
              "\n",
              "    [theme=dark] .colab-df-convert {\n",
              "      background-color: #3B4455;\n",
              "      fill: #D2E3FC;\n",
              "    }\n",
              "\n",
              "    [theme=dark] .colab-df-convert:hover {\n",
              "      background-color: #434B5C;\n",
              "      box-shadow: 0px 1px 3px 1px rgba(0, 0, 0, 0.15);\n",
              "      filter: drop-shadow(0px 1px 2px rgba(0, 0, 0, 0.3));\n",
              "      fill: #FFFFFF;\n",
              "    }\n",
              "  </style>\n",
              "\n",
              "    <script>\n",
              "      const buttonEl =\n",
              "        document.querySelector('#df-080ac11f-8d21-46d9-8eb0-f0bc5a6a77a7 button.colab-df-convert');\n",
              "      buttonEl.style.display =\n",
              "        google.colab.kernel.accessAllowed ? 'block' : 'none';\n",
              "\n",
              "      async function convertToInteractive(key) {\n",
              "        const element = document.querySelector('#df-080ac11f-8d21-46d9-8eb0-f0bc5a6a77a7');\n",
              "        const dataTable =\n",
              "          await google.colab.kernel.invokeFunction('convertToInteractive',\n",
              "                                                    [key], {});\n",
              "        if (!dataTable) return;\n",
              "\n",
              "        const docLinkHtml = 'Like what you see? Visit the ' +\n",
              "          '<a target=\"_blank\" href=https://colab.research.google.com/notebooks/data_table.ipynb>data table notebook</a>'\n",
              "          + ' to learn more about interactive tables.';\n",
              "        element.innerHTML = '';\n",
              "        dataTable['output_type'] = 'display_data';\n",
              "        await google.colab.output.renderOutput(dataTable, element);\n",
              "        const docLink = document.createElement('div');\n",
              "        docLink.innerHTML = docLinkHtml;\n",
              "        element.appendChild(docLink);\n",
              "      }\n",
              "    </script>\n",
              "  </div>\n",
              "\n",
              "\n",
              "<div id=\"df-09c3a06b-daf7-436e-b985-773274b1fd3a\">\n",
              "  <button class=\"colab-df-quickchart\" onclick=\"quickchart('df-09c3a06b-daf7-436e-b985-773274b1fd3a')\"\n",
              "            title=\"Suggest charts.\"\n",
              "            style=\"display:none;\">\n",
              "\n",
              "<svg xmlns=\"http://www.w3.org/2000/svg\" height=\"24px\"viewBox=\"0 0 24 24\"\n",
              "     width=\"24px\">\n",
              "    <g>\n",
              "        <path d=\"M19 3H5c-1.1 0-2 .9-2 2v14c0 1.1.9 2 2 2h14c1.1 0 2-.9 2-2V5c0-1.1-.9-2-2-2zM9 17H7v-7h2v7zm4 0h-2V7h2v10zm4 0h-2v-4h2v4z\"/>\n",
              "    </g>\n",
              "</svg>\n",
              "  </button>\n",
              "\n",
              "<style>\n",
              "  .colab-df-quickchart {\n",
              "    background-color: #E8F0FE;\n",
              "    border: none;\n",
              "    border-radius: 50%;\n",
              "    cursor: pointer;\n",
              "    display: none;\n",
              "    fill: #1967D2;\n",
              "    height: 32px;\n",
              "    padding: 0 0 0 0;\n",
              "    width: 32px;\n",
              "  }\n",
              "\n",
              "  .colab-df-quickchart:hover {\n",
              "    background-color: #E2EBFA;\n",
              "    box-shadow: 0px 1px 2px rgba(60, 64, 67, 0.3), 0px 1px 3px 1px rgba(60, 64, 67, 0.15);\n",
              "    fill: #174EA6;\n",
              "  }\n",
              "\n",
              "  [theme=dark] .colab-df-quickchart {\n",
              "    background-color: #3B4455;\n",
              "    fill: #D2E3FC;\n",
              "  }\n",
              "\n",
              "  [theme=dark] .colab-df-quickchart:hover {\n",
              "    background-color: #434B5C;\n",
              "    box-shadow: 0px 1px 3px 1px rgba(0, 0, 0, 0.15);\n",
              "    filter: drop-shadow(0px 1px 2px rgba(0, 0, 0, 0.3));\n",
              "    fill: #FFFFFF;\n",
              "  }\n",
              "</style>\n",
              "\n",
              "  <script>\n",
              "    async function quickchart(key) {\n",
              "      const charts = await google.colab.kernel.invokeFunction(\n",
              "          'suggestCharts', [key], {});\n",
              "    }\n",
              "    (() => {\n",
              "      let quickchartButtonEl =\n",
              "        document.querySelector('#df-09c3a06b-daf7-436e-b985-773274b1fd3a button');\n",
              "      quickchartButtonEl.style.display =\n",
              "        google.colab.kernel.accessAllowed ? 'block' : 'none';\n",
              "    })();\n",
              "  </script>\n",
              "</div>\n",
              "    </div>\n",
              "  </div>\n"
            ]
          },
          "metadata": {},
          "execution_count": 22
        }
      ]
    },
    {
      "cell_type": "code",
      "metadata": {
        "id": "26sEKiQYH2sr",
        "colab": {
          "base_uri": "https://localhost:8080/"
        },
        "outputId": "28417196-9d8c-47c3-b3d2-90c5a4473114"
      },
      "source": [
        "test_files  = df_test.iloc[:,0].values\n",
        "test_labels = df_test.iloc[:,1].values\n",
        "print(test_labels[:10])"
      ],
      "execution_count": null,
      "outputs": [
        {
          "output_type": "stream",
          "name": "stdout",
          "text": [
            "[nan nan nan nan nan nan nan nan nan nan]\n"
          ]
        }
      ]
    },
    {
      "cell_type": "markdown",
      "metadata": {
        "id": "_BLG-wtcZvze"
      },
      "source": [
        "## Step 5: Set up a test_dataloader with test_dataset"
      ]
    },
    {
      "cell_type": "code",
      "source": [
        "from torchvision import transforms\n",
        "pretrained_size = 240\n",
        "pretrained_means = [0.485, 0.456, 0.406]\n",
        "pretrained_stds= [0.229, 0.224, 0.225]\n",
        "test_transform = transforms.Compose([\n",
        "    transforms.Resize(pretrained_size),\n",
        "    transforms.ToTensor(),\n",
        "    transforms.Normalize(mean = pretrained_means, std = pretrained_stds)\n",
        "])\n",
        "batches =48"
      ],
      "metadata": {
        "id": "WXmLqRH_Yd6C"
      },
      "execution_count": null,
      "outputs": []
    },
    {
      "cell_type": "code",
      "source": [
        "from PIL import Image\n",
        "class CustomDataset(torch.utils.data.Dataset):\n",
        "    def __init__(self, csv_path, images_folder, transform = None):\n",
        "        self.df = pd.read_csv(csv_path)\n",
        "        self.images_folder = images_folder\n",
        "        self.transform = transform\n",
        "\n",
        "    def __len__(self):\n",
        "        return len(self.df)\n",
        "    def __getitem__(self, index):\n",
        "        filename = self.df.iloc[index]['ID']\n",
        "        label = self.df.iloc[index]['Label']\n",
        "        image = Image.open(os.path.join(self.images_folder, filename)).convert('RGB')\n",
        "        if self.transform is not None:\n",
        "            image = self.transform(image)\n",
        "        return image, label"
      ],
      "metadata": {
        "id": "1CRWhA5wYsHD"
      },
      "execution_count": null,
      "outputs": []
    },
    {
      "cell_type": "code",
      "source": [
        "imgdir= \"test_images\"\n",
        "csvfile = \"test.csv\"\n"
      ],
      "metadata": {
        "id": "oypLTt5mrZQ_"
      },
      "execution_count": null,
      "outputs": []
    },
    {
      "cell_type": "code",
      "source": [
        "test_dataset = CustomDataset(csvfile, imgdir, test_transform)\n",
        "test_dataloader = DataLoader(test_dataset,batch_size=batches, shuffle=False)\n",
        "print(f\"Total images={len(test_dataset)}\")"
      ],
      "metadata": {
        "id": "UHS83H2trOEf",
        "colab": {
          "base_uri": "https://localhost:8080/"
        },
        "outputId": "fce4a9e4-7313-4e3e-cdfe-b673c6af999e"
      },
      "execution_count": null,
      "outputs": [
        {
          "output_type": "stream",
          "name": "stdout",
          "text": [
            "Total images=10142\n"
          ]
        }
      ]
    },
    {
      "cell_type": "code",
      "source": [
        "total_batch=len(test_dataset)//batches + 1\n",
        "print(total_batch)"
      ],
      "metadata": {
        "id": "5grxQQyCrrmq",
        "colab": {
          "base_uri": "https://localhost:8080/"
        },
        "outputId": "c2c4fc21-d32f-465a-faf0-9efe8a611840"
      },
      "execution_count": null,
      "outputs": [
        {
          "output_type": "stream",
          "name": "stdout",
          "text": [
            "212\n"
          ]
        }
      ]
    },
    {
      "cell_type": "markdown",
      "metadata": {
        "id": "wzBR-D2-abER"
      },
      "source": [
        "## Step 6: Check test results"
      ]
    },
    {
      "cell_type": "code",
      "source": [
        "test_predictions = np.zeros(len(test_labels))"
      ],
      "metadata": {
        "id": "upzybCpgsJRg"
      },
      "execution_count": null,
      "outputs": []
    },
    {
      "cell_type": "code",
      "metadata": {
        "id": "chRywd4OnsFK",
        "colab": {
          "base_uri": "https://localhost:8080/"
        },
        "outputId": "3ed13599-6c9b-41a2-e7d4-5c248c9c6f1b"
      },
      "source": [
        "model.eval()\n",
        "# again no gradients needed\n",
        "with torch.no_grad():\n",
        "    total_batch = len(test_dataset)//batches\n",
        "    for i, (batch_images, batch_labels) in enumerate(test_dataloader):\n",
        "      images = batch_images.cuda()\n",
        "      labels = batch_labels.cuda()\n",
        "      outputs = model(images)\n",
        "      _, predictions = torch.max(outputs, 1)\n",
        "      test_predictions[i*batches:(i+1)*batches] = predictions.cpu()\n",
        "      if (i+1) % 10 == 0:\n",
        "          print(f'lter [{i+1}/{total_batch}]')"
      ],
      "execution_count": null,
      "outputs": [
        {
          "output_type": "stream",
          "name": "stdout",
          "text": [
            "lter [10/211]\n",
            "lter [20/211]\n",
            "lter [30/211]\n",
            "lter [40/211]\n",
            "lter [50/211]\n",
            "lter [60/211]\n",
            "lter [70/211]\n",
            "lter [80/211]\n",
            "lter [90/211]\n",
            "lter [100/211]\n",
            "lter [110/211]\n",
            "lter [120/211]\n",
            "lter [130/211]\n",
            "lter [140/211]\n",
            "lter [150/211]\n",
            "lter [160/211]\n",
            "lter [170/211]\n",
            "lter [180/211]\n",
            "lter [190/211]\n",
            "lter [200/211]\n",
            "lter [210/211]\n"
          ]
        }
      ]
    },
    {
      "cell_type": "code",
      "source": [
        "test_predictions=test_predictions.astype(int)\n",
        "test_predictions[:10]"
      ],
      "metadata": {
        "id": "VKIBMototYSU",
        "colab": {
          "base_uri": "https://localhost:8080/"
        },
        "outputId": "4fe91a7c-3202-4949-a37f-6b2ec1a4fc9a"
      },
      "execution_count": null,
      "outputs": [
        {
          "output_type": "execute_result",
          "data": {
            "text/plain": [
              "array([1, 2, 5, 0, 2, 5, 5, 5, 0, 2])"
            ]
          },
          "metadata": {},
          "execution_count": 31
        }
      ]
    },
    {
      "cell_type": "markdown",
      "metadata": {
        "id": "iqkymIOfaeg1"
      },
      "source": [
        "## Step 7: Output test results"
      ]
    },
    {
      "cell_type": "code",
      "metadata": {
        "id": "0sXBA6kypHZd",
        "colab": {
          "base_uri": "https://localhost:8080/"
        },
        "outputId": "26b6bb3b-1b94-47af-a101-d661d6a6ae89"
      },
      "source": [
        "df_out = pd.DataFrame(df_test)\n",
        "df_out.shape"
      ],
      "execution_count": null,
      "outputs": [
        {
          "output_type": "execute_result",
          "data": {
            "text/plain": [
              "(10142, 2)"
            ]
          },
          "metadata": {},
          "execution_count": 32
        }
      ]
    },
    {
      "cell_type": "code",
      "metadata": {
        "id": "Z5sYBeoVIAKA"
      },
      "source": [
        "df_out['Label'] = test_predictions\n",
        "df_out.to_csv(\"pt-aoi_B28_1.csv\", index=False)"
      ],
      "execution_count": null,
      "outputs": []
    }
  ]
}